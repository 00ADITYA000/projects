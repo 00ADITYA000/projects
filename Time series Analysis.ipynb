{
 "cells": [
  {
   "cell_type": "code",
   "execution_count": 1,
   "id": "08de7dd6",
   "metadata": {},
   "outputs": [],
   "source": [
    "import pandas as pd\n",
    "import numpy as np"
   ]
  },
  {
   "cell_type": "code",
   "execution_count": 2,
   "id": "f4e3736e",
   "metadata": {},
   "outputs": [],
   "source": [
    "df = pd.read_csv(\"CSUSHPISA.csv\")"
   ]
  },
  {
   "cell_type": "code",
   "execution_count": 3,
   "id": "8982a936",
   "metadata": {},
   "outputs": [
    {
     "data": {
      "text/plain": [
       "(426, 2)"
      ]
     },
     "execution_count": 3,
     "metadata": {},
     "output_type": "execute_result"
    }
   ],
   "source": [
    "df.shape"
   ]
  },
  {
   "cell_type": "code",
   "execution_count": 4,
   "id": "700a62bc",
   "metadata": {},
   "outputs": [
    {
     "data": {
      "text/html": [
       "<div>\n",
       "<style scoped>\n",
       "    .dataframe tbody tr th:only-of-type {\n",
       "        vertical-align: middle;\n",
       "    }\n",
       "\n",
       "    .dataframe tbody tr th {\n",
       "        vertical-align: top;\n",
       "    }\n",
       "\n",
       "    .dataframe thead th {\n",
       "        text-align: right;\n",
       "    }\n",
       "</style>\n",
       "<table border=\"1\" class=\"dataframe\">\n",
       "  <thead>\n",
       "    <tr style=\"text-align: right;\">\n",
       "      <th></th>\n",
       "      <th>DATE</th>\n",
       "      <th>CSUSHPISA</th>\n",
       "    </tr>\n",
       "  </thead>\n",
       "  <tbody>\n",
       "    <tr>\n",
       "      <th>0</th>\n",
       "      <td>1987-01-01</td>\n",
       "      <td>63.965</td>\n",
       "    </tr>\n",
       "    <tr>\n",
       "      <th>1</th>\n",
       "      <td>1987-02-01</td>\n",
       "      <td>64.424</td>\n",
       "    </tr>\n",
       "    <tr>\n",
       "      <th>2</th>\n",
       "      <td>1987-03-01</td>\n",
       "      <td>64.735</td>\n",
       "    </tr>\n",
       "    <tr>\n",
       "      <th>3</th>\n",
       "      <td>1987-04-01</td>\n",
       "      <td>65.132</td>\n",
       "    </tr>\n",
       "  </tbody>\n",
       "</table>\n",
       "</div>"
      ],
      "text/plain": [
       "         DATE  CSUSHPISA\n",
       "0  1987-01-01     63.965\n",
       "1  1987-02-01     64.424\n",
       "2  1987-03-01     64.735\n",
       "3  1987-04-01     65.132"
      ]
     },
     "execution_count": 4,
     "metadata": {},
     "output_type": "execute_result"
    }
   ],
   "source": [
    "df.head(4)"
   ]
  },
  {
   "cell_type": "code",
   "execution_count": 5,
   "id": "fdb0d40e",
   "metadata": {},
   "outputs": [
    {
     "name": "stdout",
     "output_type": "stream",
     "text": [
      "<class 'pandas.core.frame.DataFrame'>\n",
      "RangeIndex: 426 entries, 0 to 425\n",
      "Data columns (total 2 columns):\n",
      " #   Column     Non-Null Count  Dtype  \n",
      "---  ------     --------------  -----  \n",
      " 0   DATE       426 non-null    object \n",
      " 1   CSUSHPISA  426 non-null    float64\n",
      "dtypes: float64(1), object(1)\n",
      "memory usage: 6.8+ KB\n"
     ]
    }
   ],
   "source": [
    "df.info()"
   ]
  },
  {
   "cell_type": "code",
   "execution_count": 6,
   "id": "8c921140",
   "metadata": {},
   "outputs": [
    {
     "data": {
      "text/plain": [
       "DATE         0\n",
       "CSUSHPISA    0\n",
       "dtype: int64"
      ]
     },
     "execution_count": 6,
     "metadata": {},
     "output_type": "execute_result"
    }
   ],
   "source": [
    "df.isnull().sum()"
   ]
  },
  {
   "cell_type": "markdown",
   "id": "345455df",
   "metadata": {},
   "source": [
    "## there is no null value in this data"
   ]
  },
  {
   "cell_type": "code",
   "execution_count": 7,
   "id": "fc71077f",
   "metadata": {},
   "outputs": [],
   "source": [
    "df['Year']=df['DATE'].str.split('-').str[0]\n",
    "df['Date']=df['DATE'].str.split('-').str[1]\n",
    "df['Month']=df['DATE'].str.split('-').str[2]"
   ]
  },
  {
   "cell_type": "code",
   "execution_count": 8,
   "id": "588b79df",
   "metadata": {},
   "outputs": [
    {
     "data": {
      "text/html": [
       "<div>\n",
       "<style scoped>\n",
       "    .dataframe tbody tr th:only-of-type {\n",
       "        vertical-align: middle;\n",
       "    }\n",
       "\n",
       "    .dataframe tbody tr th {\n",
       "        vertical-align: top;\n",
       "    }\n",
       "\n",
       "    .dataframe thead th {\n",
       "        text-align: right;\n",
       "    }\n",
       "</style>\n",
       "<table border=\"1\" class=\"dataframe\">\n",
       "  <thead>\n",
       "    <tr style=\"text-align: right;\">\n",
       "      <th></th>\n",
       "      <th>DATE</th>\n",
       "      <th>CSUSHPISA</th>\n",
       "      <th>Year</th>\n",
       "      <th>Date</th>\n",
       "      <th>Month</th>\n",
       "    </tr>\n",
       "  </thead>\n",
       "  <tbody>\n",
       "    <tr>\n",
       "      <th>0</th>\n",
       "      <td>1987-01-01</td>\n",
       "      <td>63.965</td>\n",
       "      <td>1987</td>\n",
       "      <td>01</td>\n",
       "      <td>01</td>\n",
       "    </tr>\n",
       "    <tr>\n",
       "      <th>1</th>\n",
       "      <td>1987-02-01</td>\n",
       "      <td>64.424</td>\n",
       "      <td>1987</td>\n",
       "      <td>02</td>\n",
       "      <td>01</td>\n",
       "    </tr>\n",
       "    <tr>\n",
       "      <th>2</th>\n",
       "      <td>1987-03-01</td>\n",
       "      <td>64.735</td>\n",
       "      <td>1987</td>\n",
       "      <td>03</td>\n",
       "      <td>01</td>\n",
       "    </tr>\n",
       "    <tr>\n",
       "      <th>3</th>\n",
       "      <td>1987-04-01</td>\n",
       "      <td>65.132</td>\n",
       "      <td>1987</td>\n",
       "      <td>04</td>\n",
       "      <td>01</td>\n",
       "    </tr>\n",
       "  </tbody>\n",
       "</table>\n",
       "</div>"
      ],
      "text/plain": [
       "         DATE  CSUSHPISA  Year Date Month\n",
       "0  1987-01-01     63.965  1987   01    01\n",
       "1  1987-02-01     64.424  1987   02    01\n",
       "2  1987-03-01     64.735  1987   03    01\n",
       "3  1987-04-01     65.132  1987   04    01"
      ]
     },
     "execution_count": 8,
     "metadata": {},
     "output_type": "execute_result"
    }
   ],
   "source": [
    "df.head(4)"
   ]
  },
  {
   "cell_type": "code",
   "execution_count": 9,
   "id": "13b3746d",
   "metadata": {},
   "outputs": [
    {
     "name": "stdout",
     "output_type": "stream",
     "text": [
      "<class 'pandas.core.frame.DataFrame'>\n",
      "RangeIndex: 426 entries, 0 to 425\n",
      "Data columns (total 5 columns):\n",
      " #   Column     Non-Null Count  Dtype  \n",
      "---  ------     --------------  -----  \n",
      " 0   DATE       426 non-null    object \n",
      " 1   CSUSHPISA  426 non-null    float64\n",
      " 2   Year       426 non-null    object \n",
      " 3   Date       426 non-null    object \n",
      " 4   Month      426 non-null    object \n",
      "dtypes: float64(1), object(4)\n",
      "memory usage: 16.8+ KB\n"
     ]
    }
   ],
   "source": [
    "df.info()"
   ]
  },
  {
   "cell_type": "code",
   "execution_count": 10,
   "id": "61f24e95",
   "metadata": {},
   "outputs": [],
   "source": [
    "df['Year']=df['Year'].astype(int)\n",
    "df['Date']=df['Date'].astype(int)\n",
    "df['Month']=df['Month'].astype(int)"
   ]
  },
  {
   "cell_type": "code",
   "execution_count": 11,
   "id": "cce745bb",
   "metadata": {},
   "outputs": [
    {
     "name": "stdout",
     "output_type": "stream",
     "text": [
      "<class 'pandas.core.frame.DataFrame'>\n",
      "RangeIndex: 426 entries, 0 to 425\n",
      "Data columns (total 5 columns):\n",
      " #   Column     Non-Null Count  Dtype  \n",
      "---  ------     --------------  -----  \n",
      " 0   DATE       426 non-null    object \n",
      " 1   CSUSHPISA  426 non-null    float64\n",
      " 2   Year       426 non-null    int32  \n",
      " 3   Date       426 non-null    int32  \n",
      " 4   Month      426 non-null    int32  \n",
      "dtypes: float64(1), int32(3), object(1)\n",
      "memory usage: 11.8+ KB\n"
     ]
    }
   ],
   "source": [
    "df.info()"
   ]
  },
  {
   "cell_type": "code",
   "execution_count": 12,
   "id": "4a08e93c",
   "metadata": {},
   "outputs": [],
   "source": [
    "df=df.drop(columns=['DATE'])"
   ]
  },
  {
   "cell_type": "code",
   "execution_count": 13,
   "id": "43f4b624",
   "metadata": {},
   "outputs": [
    {
     "data": {
      "text/html": [
       "<div>\n",
       "<style scoped>\n",
       "    .dataframe tbody tr th:only-of-type {\n",
       "        vertical-align: middle;\n",
       "    }\n",
       "\n",
       "    .dataframe tbody tr th {\n",
       "        vertical-align: top;\n",
       "    }\n",
       "\n",
       "    .dataframe thead th {\n",
       "        text-align: right;\n",
       "    }\n",
       "</style>\n",
       "<table border=\"1\" class=\"dataframe\">\n",
       "  <thead>\n",
       "    <tr style=\"text-align: right;\">\n",
       "      <th></th>\n",
       "      <th>CSUSHPISA</th>\n",
       "      <th>Year</th>\n",
       "      <th>Date</th>\n",
       "      <th>Month</th>\n",
       "    </tr>\n",
       "  </thead>\n",
       "  <tbody>\n",
       "    <tr>\n",
       "      <th>0</th>\n",
       "      <td>63.965</td>\n",
       "      <td>1987</td>\n",
       "      <td>1</td>\n",
       "      <td>1</td>\n",
       "    </tr>\n",
       "    <tr>\n",
       "      <th>1</th>\n",
       "      <td>64.424</td>\n",
       "      <td>1987</td>\n",
       "      <td>2</td>\n",
       "      <td>1</td>\n",
       "    </tr>\n",
       "    <tr>\n",
       "      <th>2</th>\n",
       "      <td>64.735</td>\n",
       "      <td>1987</td>\n",
       "      <td>3</td>\n",
       "      <td>1</td>\n",
       "    </tr>\n",
       "    <tr>\n",
       "      <th>3</th>\n",
       "      <td>65.132</td>\n",
       "      <td>1987</td>\n",
       "      <td>4</td>\n",
       "      <td>1</td>\n",
       "    </tr>\n",
       "    <tr>\n",
       "      <th>4</th>\n",
       "      <td>65.565</td>\n",
       "      <td>1987</td>\n",
       "      <td>5</td>\n",
       "      <td>1</td>\n",
       "    </tr>\n",
       "    <tr>\n",
       "      <th>...</th>\n",
       "      <td>...</td>\n",
       "      <td>...</td>\n",
       "      <td>...</td>\n",
       "      <td>...</td>\n",
       "    </tr>\n",
       "    <tr>\n",
       "      <th>421</th>\n",
       "      <td>290.371</td>\n",
       "      <td>2022</td>\n",
       "      <td>2</td>\n",
       "      <td>1</td>\n",
       "    </tr>\n",
       "    <tr>\n",
       "      <th>422</th>\n",
       "      <td>296.362</td>\n",
       "      <td>2022</td>\n",
       "      <td>3</td>\n",
       "      <td>1</td>\n",
       "    </tr>\n",
       "    <tr>\n",
       "      <th>423</th>\n",
       "      <td>301.409</td>\n",
       "      <td>2022</td>\n",
       "      <td>4</td>\n",
       "      <td>1</td>\n",
       "    </tr>\n",
       "    <tr>\n",
       "      <th>424</th>\n",
       "      <td>305.179</td>\n",
       "      <td>2022</td>\n",
       "      <td>5</td>\n",
       "      <td>1</td>\n",
       "    </tr>\n",
       "    <tr>\n",
       "      <th>425</th>\n",
       "      <td>306.181</td>\n",
       "      <td>2022</td>\n",
       "      <td>6</td>\n",
       "      <td>1</td>\n",
       "    </tr>\n",
       "  </tbody>\n",
       "</table>\n",
       "<p>426 rows × 4 columns</p>\n",
       "</div>"
      ],
      "text/plain": [
       "     CSUSHPISA  Year  Date  Month\n",
       "0       63.965  1987     1      1\n",
       "1       64.424  1987     2      1\n",
       "2       64.735  1987     3      1\n",
       "3       65.132  1987     4      1\n",
       "4       65.565  1987     5      1\n",
       "..         ...   ...   ...    ...\n",
       "421    290.371  2022     2      1\n",
       "422    296.362  2022     3      1\n",
       "423    301.409  2022     4      1\n",
       "424    305.179  2022     5      1\n",
       "425    306.181  2022     6      1\n",
       "\n",
       "[426 rows x 4 columns]"
      ]
     },
     "execution_count": 13,
     "metadata": {},
     "output_type": "execute_result"
    }
   ],
   "source": [
    "df"
   ]
  },
  {
   "cell_type": "code",
   "execution_count": 14,
   "id": "c55452f3",
   "metadata": {},
   "outputs": [],
   "source": [
    "df['current_year']=2022"
   ]
  },
  {
   "cell_type": "code",
   "execution_count": 15,
   "id": "d3a7cc10",
   "metadata": {},
   "outputs": [],
   "source": [
    "df['No_of_Years']=df['current_year']-df['Year']"
   ]
  },
  {
   "cell_type": "code",
   "execution_count": 16,
   "id": "c2c2161b",
   "metadata": {},
   "outputs": [],
   "source": [
    "df=df.drop(columns=['current_year'])"
   ]
  },
  {
   "cell_type": "code",
   "execution_count": 17,
   "id": "6753eec7",
   "metadata": {},
   "outputs": [
    {
     "name": "stdout",
     "output_type": "stream",
     "text": [
      "<class 'pandas.core.frame.DataFrame'>\n",
      "RangeIndex: 426 entries, 0 to 425\n",
      "Data columns (total 5 columns):\n",
      " #   Column       Non-Null Count  Dtype  \n",
      "---  ------       --------------  -----  \n",
      " 0   CSUSHPISA    426 non-null    float64\n",
      " 1   Year         426 non-null    int32  \n",
      " 2   Date         426 non-null    int32  \n",
      " 3   Month        426 non-null    int32  \n",
      " 4   No_of_Years  426 non-null    int64  \n",
      "dtypes: float64(1), int32(3), int64(1)\n",
      "memory usage: 11.8 KB\n"
     ]
    }
   ],
   "source": [
    "df.info()"
   ]
  },
  {
   "cell_type": "code",
   "execution_count": 18,
   "id": "ee8ee675",
   "metadata": {},
   "outputs": [],
   "source": [
    "x=df.drop(columns=['CSUSHPISA'])\n",
    "y=df['CSUSHPISA']"
   ]
  },
  {
   "cell_type": "markdown",
   "id": "1cdcef6a",
   "metadata": {},
   "source": [
    "## MACHINE LEARNING"
   ]
  },
  {
   "cell_type": "code",
   "execution_count": 19,
   "id": "46c551e2",
   "metadata": {},
   "outputs": [],
   "source": [
    "from sklearn.model_selection import train_test_split\n",
    "\n",
    "x_train, x_test, y_train, y_test = train_test_split(x,y, test_size = 0.2, random_state=2)"
   ]
  },
  {
   "cell_type": "code",
   "execution_count": 20,
   "id": "5f15a3d5",
   "metadata": {},
   "outputs": [],
   "source": [
    "from sklearn.ensemble import RandomForestRegressor\n",
    "rf = RandomForestRegressor()"
   ]
  },
  {
   "cell_type": "code",
   "execution_count": 21,
   "id": "a10a1ec9",
   "metadata": {},
   "outputs": [
    {
     "data": {
      "text/plain": [
       "RandomForestRegressor()"
      ]
     },
     "execution_count": 21,
     "metadata": {},
     "output_type": "execute_result"
    }
   ],
   "source": [
    " rf.fit(x_train,y_train)"
   ]
  },
  {
   "cell_type": "code",
   "execution_count": 22,
   "id": "42003c3a",
   "metadata": {},
   "outputs": [
    {
     "data": {
      "text/plain": [
       "0.9991227534246128"
      ]
     },
     "execution_count": 22,
     "metadata": {},
     "output_type": "execute_result"
    }
   ],
   "source": [
    "rf.score(x_test,y_test)"
   ]
  },
  {
   "cell_type": "code",
   "execution_count": 23,
   "id": "8de90c1f",
   "metadata": {},
   "outputs": [
    {
     "data": {
      "text/plain": [
       "DecisionTreeRegressor()"
      ]
     },
     "execution_count": 23,
     "metadata": {},
     "output_type": "execute_result"
    }
   ],
   "source": [
    "from sklearn.tree import DecisionTreeRegressor\n",
    "\n",
    "tree_reg = DecisionTreeRegressor()\n",
    "tree_reg.fit(x_train, y_train)"
   ]
  },
  {
   "cell_type": "code",
   "execution_count": 24,
   "id": "1d71ef0f",
   "metadata": {},
   "outputs": [
    {
     "data": {
      "text/plain": [
       "0.9994439121655576"
      ]
     },
     "execution_count": 24,
     "metadata": {},
     "output_type": "execute_result"
    }
   ],
   "source": [
    "tree_reg.score(x_test,y_test)"
   ]
  },
  {
   "cell_type": "code",
   "execution_count": 25,
   "id": "73a7a8a4",
   "metadata": {},
   "outputs": [],
   "source": [
    "y_pred = rf.predict(x_test)"
   ]
  },
  {
   "cell_type": "code",
   "execution_count": 26,
   "id": "8ed79aba",
   "metadata": {},
   "outputs": [],
   "source": [
    "import matplotlib.pyplot as plt\n",
    "import seaborn as sns"
   ]
  },
  {
   "cell_type": "code",
   "execution_count": 27,
   "id": "7859c19e",
   "metadata": {},
   "outputs": [
    {
     "name": "stderr",
     "output_type": "stream",
     "text": [
      "C:\\Users\\aditya\\anaconda3\\lib\\site-packages\\seaborn\\_decorators.py:36: FutureWarning: Pass the following variables as keyword args: x, y. From version 0.12, the only valid positional argument will be `data`, and passing other arguments without an explicit keyword will result in an error or misinterpretation.\n",
      "  warnings.warn(\n"
     ]
    },
    {
     "data": {
      "text/plain": [
       "<AxesSubplot:xlabel='CSUSHPISA'>"
      ]
     },
     "execution_count": 27,
     "metadata": {},
     "output_type": "execute_result"
    },
    {
     "data": {
      "image/png": "[encoded data removed]",
      "text/plain": [
       "<Figure size 432x288 with 1 Axes>"
      ]
     },
     "metadata": {
      "needs_background": "light"
     },
     "output_type": "display_data"
    }
   ],
   "source": [
    "sns.lineplot(y_test,y_pred)"
   ]
  },
  {
   "cell_type": "code",
   "execution_count": 28,
   "id": "34152f97",
   "metadata": {},
   "outputs": [],
   "source": [
    "from sklearn.linear_model import LassoCV"
   ]
  },
  {
   "cell_type": "code",
   "execution_count": 29,
   "id": "52dcdc25",
   "metadata": {},
   "outputs": [
    {
     "data": {
      "text/plain": [
       "LassoCV()"
      ]
     },
     "execution_count": 29,
     "metadata": {},
     "output_type": "execute_result"
    }
   ],
   "source": [
    "lasscv = LassoCV()\n",
    "lasscv.fit(x_train, y_train)"
   ]
  },
  {
   "cell_type": "code",
   "execution_count": 30,
   "id": "2f084894",
   "metadata": {},
   "outputs": [
    {
     "data": {
      "text/plain": [
       "0.823653372930248"
      ]
     },
     "execution_count": 30,
     "metadata": {},
     "output_type": "execute_result"
    }
   ],
   "source": [
    "lasscv.score(x_test,y_test)"
   ]
  },
  {
   "cell_type": "code",
   "execution_count": 31,
   "id": "404f22d1",
   "metadata": {},
   "outputs": [
    {
     "data": {
      "text/plain": [
       "array([109.16708925, 140.49544979, 128.68155984, 187.81258724,\n",
       "       125.56578904, 106.63893406,  62.14375961, 221.96291078,\n",
       "        57.26514196,  97.17550657, 208.79609687, 124.97817342,\n",
       "       120.39336358, 163.419499  ,  71.01957148, 216.79048532,\n",
       "       160.597536  , 142.72979717, 206.1518266 ,  76.48580475,\n",
       "       215.9090619 , 176.88012071, 118.92432455, 114.92713032,\n",
       "       114.63332251,  80.77680678, 102.05412422,  95.70646753,\n",
       "       184.69681644, 125.85959685, 187.51877943, 114.3395147 ,\n",
       "       101.4665086 ,  54.9146795 , 136.20444776,  84.18638539,\n",
       "       178.64296756, 113.75189909,  85.65542443,  50.62367747,\n",
       "        60.08710496,  71.6071871 , 144.78645183, 211.61805987,\n",
       "       145.37406744, 128.09394423,  59.79329715, 138.14498733,\n",
       "       201.86082457,  52.0927165 , 201.56701676, 182.93396959,\n",
       "       129.85679107, 218.84713997, 137.85117952, 169.76715568,\n",
       "       145.08025963, 157.65945793, 188.98781847, 186.63735601,\n",
       "        60.96852838, 221.66910297, 174.93958114, 143.31741279,\n",
       "       162.83188338, 143.9050284 , 120.68717139,  77.07342036,\n",
       "       177.46773633, 188.10639505,  90.24023427, 191.51597366,\n",
       "       165.18234584, 209.38371249, 119.80574797,  77.36722817,\n",
       "        64.96572261, 172.29531087,  96.58789096, 192.9850127 ,\n",
       "        61.55614399, 120.09955578,  76.77961255, 133.26636968,\n",
       "       164.00711461, 140.7892576 ])"
      ]
     },
     "execution_count": 31,
     "metadata": {},
     "output_type": "execute_result"
    }
   ],
   "source": [
    "y_pred = lasscv.predict(x_test)\n",
    "y_pred"
   ]
  },
  {
   "cell_type": "code",
   "execution_count": 32,
   "id": "e458ecb4",
   "metadata": {},
   "outputs": [
    {
     "name": "stderr",
     "output_type": "stream",
     "text": [
      "C:\\Users\\aditya\\anaconda3\\lib\\site-packages\\seaborn\\_decorators.py:36: FutureWarning: Pass the following variables as keyword args: x, y. From version 0.12, the only valid positional argument will be `data`, and passing other arguments without an explicit keyword will result in an error or misinterpretation.\n",
      "  warnings.warn(\n"
     ]
    },
    {
     "data": {
      "text/plain": [
       "<AxesSubplot:xlabel='CSUSHPISA'>"
      ]
     },
     "execution_count": 32,
     "metadata": {},
     "output_type": "execute_result"
    },
    {
     "data": {
      "image/png": "[encoded data removed]",
      "text/plain": [
       "<Figure size 432x288 with 1 Axes>"
      ]
     },
     "metadata": {
      "needs_background": "light"
     },
     "output_type": "display_data"
    }
   ],
   "source": [
    "sns.lineplot(y_test,y_pred)"
   ]
  },
  {
   "cell_type": "markdown",
   "id": "28d37c65",
   "metadata": {},
   "source": [
    "# Time Series Analysis"
   ]
  },
  {
   "cell_type": "code",
   "execution_count": 112,
   "id": "dcbb8bed",
   "metadata": {},
   "outputs": [],
   "source": [
    "from datetime import datetime"
   ]
  },
  {
   "cell_type": "code",
   "execution_count": 113,
   "id": "922e0f81",
   "metadata": {},
   "outputs": [],
   "source": [
    "df = pd.read_csv(\"CSUSHPISA.csv\")"
   ]
  },
  {
   "cell_type": "code",
   "execution_count": 114,
   "id": "00df2a83",
   "metadata": {},
   "outputs": [
    {
     "name": "stdout",
     "output_type": "stream",
     "text": [
      "<class 'pandas.core.frame.DataFrame'>\n",
      "RangeIndex: 426 entries, 0 to 425\n",
      "Data columns (total 2 columns):\n",
      " #   Column     Non-Null Count  Dtype  \n",
      "---  ------     --------------  -----  \n",
      " 0   DATE       426 non-null    object \n",
      " 1   CSUSHPISA  426 non-null    float64\n",
      "dtypes: float64(1), object(1)\n",
      "memory usage: 6.8+ KB\n"
     ]
    }
   ],
   "source": [
    "df.info()"
   ]
  },
  {
   "cell_type": "code",
   "execution_count": 115,
   "id": "0854fc05",
   "metadata": {},
   "outputs": [],
   "source": [
    "df['DATE'] = pd.to_datetime(df['DATE'])"
   ]
  },
  {
   "cell_type": "code",
   "execution_count": 116,
   "id": "f1df09ad",
   "metadata": {},
   "outputs": [],
   "source": [
    "df = df.set_index('DATE',drop = True)"
   ]
  },
  {
   "cell_type": "markdown",
   "id": "bb1364b9",
   "metadata": {},
   "source": [
    "## EDA"
   ]
  },
  {
   "cell_type": "code",
   "execution_count": 117,
   "id": "6cea67e7",
   "metadata": {},
   "outputs": [
    {
     "data": {
      "text/plain": [
       "<AxesSubplot:xlabel='DATE'>"
      ]
     },
     "execution_count": 117,
     "metadata": {},
     "output_type": "execute_result"
    },
    {
     "data": {
      "image/png": "[encoded data removed]",
      "text/plain": [
       "<Figure size 720x432 with 1 Axes>"
      ]
     },
     "metadata": {
      "needs_background": "light"
     },
     "output_type": "display_data"
    }
   ],
   "source": [
    "df.plot(figsize = (10,6))"
   ]
  },
  {
   "cell_type": "markdown",
   "id": "323cc6ef",
   "metadata": {},
   "source": [
    "## After 2006 it went down from the increment of 2002"
   ]
  },
  {
   "cell_type": "code",
   "execution_count": 118,
   "id": "f153535c",
   "metadata": {},
   "outputs": [
    {
     "data": {
      "text/plain": [
       "<AxesSubplot:xlabel='DATE'>"
      ]
     },
     "execution_count": 118,
     "metadata": {},
     "output_type": "execute_result"
    },
    {
     "data": {
      "image/png": "[encoded data removed]",
      "text/plain": [
       "<Figure size 576x288 with 1 Axes>"
      ]
     },
     "metadata": {
      "needs_background": "light"
     },
     "output_type": "display_data"
    }
   ],
   "source": [
    "df.plot(xlim = ['2007-01-01','2015-01-01'],figsize =(8,4))"
   ]
  },
  {
   "cell_type": "markdown",
   "id": "56b6ed08",
   "metadata": {},
   "source": [
    "## After 2012 it started rise again and then it didn't fall down. After 6 years the price got up"
   ]
  },
  {
   "cell_type": "code",
   "execution_count": 119,
   "id": "ae01d45d",
   "metadata": {},
   "outputs": [
    {
     "data": {
      "text/html": [
       "<div>\n",
       "<style scoped>\n",
       "    .dataframe tbody tr th:only-of-type {\n",
       "        vertical-align: middle;\n",
       "    }\n",
       "\n",
       "    .dataframe tbody tr th {\n",
       "        vertical-align: top;\n",
       "    }\n",
       "\n",
       "    .dataframe thead tr th {\n",
       "        text-align: left;\n",
       "    }\n",
       "\n",
       "    .dataframe thead tr:last-of-type th {\n",
       "        text-align: right;\n",
       "    }\n",
       "</style>\n",
       "<table border=\"1\" class=\"dataframe\">\n",
       "  <thead>\n",
       "    <tr>\n",
       "      <th></th>\n",
       "      <th colspan=\"2\" halign=\"left\">CSUSHPISA</th>\n",
       "    </tr>\n",
       "    <tr>\n",
       "      <th></th>\n",
       "      <th>min</th>\n",
       "      <th>max</th>\n",
       "    </tr>\n",
       "    <tr>\n",
       "      <th>DATE</th>\n",
       "      <th></th>\n",
       "      <th></th>\n",
       "    </tr>\n",
       "  </thead>\n",
       "  <tbody>\n",
       "    <tr>\n",
       "      <th>1987-12-31</th>\n",
       "      <td>63.965</td>\n",
       "      <td>68.506</td>\n",
       "    </tr>\n",
       "    <tr>\n",
       "      <th>1988-12-31</th>\n",
       "      <td>68.859</td>\n",
       "      <td>73.465</td>\n",
       "    </tr>\n",
       "    <tr>\n",
       "      <th>1989-12-31</th>\n",
       "      <td>73.947</td>\n",
       "      <td>76.705</td>\n",
       "    </tr>\n",
       "    <tr>\n",
       "      <th>1990-12-31</th>\n",
       "      <td>76.184</td>\n",
       "      <td>77.297</td>\n",
       "    </tr>\n",
       "    <tr>\n",
       "      <th>1991-12-31</th>\n",
       "      <td>75.566</td>\n",
       "      <td>76.194</td>\n",
       "    </tr>\n",
       "    <tr>\n",
       "      <th>1992-12-31</th>\n",
       "      <td>76.086</td>\n",
       "      <td>76.674</td>\n",
       "    </tr>\n",
       "    <tr>\n",
       "      <th>1993-12-31</th>\n",
       "      <td>76.784</td>\n",
       "      <td>78.327</td>\n",
       "    </tr>\n",
       "    <tr>\n",
       "      <th>1994-12-31</th>\n",
       "      <td>78.592</td>\n",
       "      <td>80.297</td>\n",
       "    </tr>\n",
       "    <tr>\n",
       "      <th>1995-12-31</th>\n",
       "      <td>80.427</td>\n",
       "      <td>81.737</td>\n",
       "    </tr>\n",
       "    <tr>\n",
       "      <th>1996-12-31</th>\n",
       "      <td>81.835</td>\n",
       "      <td>83.722</td>\n",
       "    </tr>\n",
       "    <tr>\n",
       "      <th>1997-12-31</th>\n",
       "      <td>83.956</td>\n",
       "      <td>87.094</td>\n",
       "    </tr>\n",
       "    <tr>\n",
       "      <th>1998-12-31</th>\n",
       "      <td>87.616</td>\n",
       "      <td>92.713</td>\n",
       "    </tr>\n",
       "    <tr>\n",
       "      <th>1999-12-31</th>\n",
       "      <td>93.209</td>\n",
       "      <td>99.846</td>\n",
       "    </tr>\n",
       "    <tr>\n",
       "      <th>2000-12-31</th>\n",
       "      <td>100.552</td>\n",
       "      <td>109.140</td>\n",
       "    </tr>\n",
       "    <tr>\n",
       "      <th>2001-12-31</th>\n",
       "      <td>109.846</td>\n",
       "      <td>116.453</td>\n",
       "    </tr>\n",
       "    <tr>\n",
       "      <th>2002-12-31</th>\n",
       "      <td>117.143</td>\n",
       "      <td>127.622</td>\n",
       "    </tr>\n",
       "    <tr>\n",
       "      <th>2003-12-31</th>\n",
       "      <td>128.461</td>\n",
       "      <td>140.180</td>\n",
       "    </tr>\n",
       "    <tr>\n",
       "      <th>2004-12-31</th>\n",
       "      <td>141.646</td>\n",
       "      <td>159.330</td>\n",
       "    </tr>\n",
       "    <tr>\n",
       "      <th>2005-12-31</th>\n",
       "      <td>161.288</td>\n",
       "      <td>180.910</td>\n",
       "    </tr>\n",
       "    <tr>\n",
       "      <th>2006-12-31</th>\n",
       "      <td>182.320</td>\n",
       "      <td>184.364</td>\n",
       "    </tr>\n",
       "    <tr>\n",
       "      <th>2007-12-31</th>\n",
       "      <td>174.341</td>\n",
       "      <td>184.599</td>\n",
       "    </tr>\n",
       "    <tr>\n",
       "      <th>2008-12-31</th>\n",
       "      <td>153.618</td>\n",
       "      <td>173.133</td>\n",
       "    </tr>\n",
       "    <tr>\n",
       "      <th>2009-12-31</th>\n",
       "      <td>147.696</td>\n",
       "      <td>151.504</td>\n",
       "    </tr>\n",
       "    <tr>\n",
       "      <th>2010-12-31</th>\n",
       "      <td>142.061</td>\n",
       "      <td>147.395</td>\n",
       "    </tr>\n",
       "    <tr>\n",
       "      <th>2011-12-31</th>\n",
       "      <td>136.676</td>\n",
       "      <td>141.526</td>\n",
       "    </tr>\n",
       "    <tr>\n",
       "      <th>2012-12-31</th>\n",
       "      <td>136.529</td>\n",
       "      <td>145.502</td>\n",
       "    </tr>\n",
       "    <tr>\n",
       "      <th>2013-12-31</th>\n",
       "      <td>146.836</td>\n",
       "      <td>160.999</td>\n",
       "    </tr>\n",
       "    <tr>\n",
       "      <th>2014-12-31</th>\n",
       "      <td>161.950</td>\n",
       "      <td>168.061</td>\n",
       "    </tr>\n",
       "    <tr>\n",
       "      <th>2015-12-31</th>\n",
       "      <td>168.666</td>\n",
       "      <td>176.561</td>\n",
       "    </tr>\n",
       "    <tr>\n",
       "      <th>2016-12-31</th>\n",
       "      <td>177.305</td>\n",
       "      <td>185.702</td>\n",
       "    </tr>\n",
       "    <tr>\n",
       "      <th>2017-12-31</th>\n",
       "      <td>186.800</td>\n",
       "      <td>197.067</td>\n",
       "    </tr>\n",
       "    <tr>\n",
       "      <th>2018-12-31</th>\n",
       "      <td>198.214</td>\n",
       "      <td>205.906</td>\n",
       "    </tr>\n",
       "    <tr>\n",
       "      <th>2019-12-31</th>\n",
       "      <td>206.295</td>\n",
       "      <td>213.491</td>\n",
       "    </tr>\n",
       "    <tr>\n",
       "      <th>2020-12-31</th>\n",
       "      <td>214.537</td>\n",
       "      <td>235.776</td>\n",
       "    </tr>\n",
       "    <tr>\n",
       "      <th>2021-12-31</th>\n",
       "      <td>238.856</td>\n",
       "      <td>280.275</td>\n",
       "    </tr>\n",
       "    <tr>\n",
       "      <th>2022-12-31</th>\n",
       "      <td>284.833</td>\n",
       "      <td>306.181</td>\n",
       "    </tr>\n",
       "  </tbody>\n",
       "</table>\n",
       "</div>"
      ],
      "text/plain": [
       "           CSUSHPISA         \n",
       "                 min      max\n",
       "DATE                         \n",
       "1987-12-31    63.965   68.506\n",
       "1988-12-31    68.859   73.465\n",
       "1989-12-31    73.947   76.705\n",
       "1990-12-31    76.184   77.297\n",
       "1991-12-31    75.566   76.194\n",
       "1992-12-31    76.086   76.674\n",
       "1993-12-31    76.784   78.327\n",
       "1994-12-31    78.592   80.297\n",
       "1995-12-31    80.427   81.737\n",
       "1996-12-31    81.835   83.722\n",
       "1997-12-31    83.956   87.094\n",
       "1998-12-31    87.616   92.713\n",
       "1999-12-31    93.209   99.846\n",
       "2000-12-31   100.552  109.140\n",
       "2001-12-31   109.846  116.453\n",
       "2002-12-31   117.143  127.622\n",
       "2003-12-31   128.461  140.180\n",
       "2004-12-31   141.646  159.330\n",
       "2005-12-31   161.288  180.910\n",
       "2006-12-31   182.320  184.364\n",
       "2007-12-31   174.341  184.599\n",
       "2008-12-31   153.618  173.133\n",
       "2009-12-31   147.696  151.504\n",
       "2010-12-31   142.061  147.395\n",
       "2011-12-31   136.676  141.526\n",
       "2012-12-31   136.529  145.502\n",
       "2013-12-31   146.836  160.999\n",
       "2014-12-31   161.950  168.061\n",
       "2015-12-31   168.666  176.561\n",
       "2016-12-31   177.305  185.702\n",
       "2017-12-31   186.800  197.067\n",
       "2018-12-31   198.214  205.906\n",
       "2019-12-31   206.295  213.491\n",
       "2020-12-31   214.537  235.776\n",
       "2021-12-31   238.856  280.275\n",
       "2022-12-31   284.833  306.181"
      ]
     },
     "execution_count": 119,
     "metadata": {},
     "output_type": "execute_result"
    }
   ],
   "source": [
    "df.resample(rule = 'A').agg(['min','max'])  ## resampling"
   ]
  },
  {
   "cell_type": "code",
   "execution_count": 121,
   "id": "d995db86",
   "metadata": {},
   "outputs": [
    {
     "data": {
      "text/plain": [
       "<AxesSubplot:xlabel='DATE'>"
      ]
     },
     "execution_count": 121,
     "metadata": {},
     "output_type": "execute_result"
    },
    {
     "data": {
      "image/png": "[encoded data removed]",
      "text/plain": [
       "<Figure size 936x432 with 1 Axes>"
      ]
     },
     "metadata": {
      "needs_background": "light"
     },
     "output_type": "display_data"
    }
   ],
   "source": [
    "df.resample(rule = 'A').agg(['min','max']).plot()"
   ]
  },
  {
   "cell_type": "markdown",
   "id": "084cde51",
   "metadata": {},
   "source": [
    "## This is the yearly information we got with min and max csushpisa"
   ]
  },
  {
   "cell_type": "code",
   "execution_count": 122,
   "id": "e448fcff",
   "metadata": {},
   "outputs": [
    {
     "data": {
      "text/html": [
       "<div>\n",
       "<style scoped>\n",
       "    .dataframe tbody tr th:only-of-type {\n",
       "        vertical-align: middle;\n",
       "    }\n",
       "\n",
       "    .dataframe tbody tr th {\n",
       "        vertical-align: top;\n",
       "    }\n",
       "\n",
       "    .dataframe thead tr th {\n",
       "        text-align: left;\n",
       "    }\n",
       "\n",
       "    .dataframe thead tr:last-of-type th {\n",
       "        text-align: right;\n",
       "    }\n",
       "</style>\n",
       "<table border=\"1\" class=\"dataframe\">\n",
       "  <thead>\n",
       "    <tr>\n",
       "      <th></th>\n",
       "      <th colspan=\"2\" halign=\"left\">CSUSHPISA</th>\n",
       "    </tr>\n",
       "    <tr>\n",
       "      <th></th>\n",
       "      <th>min</th>\n",
       "      <th>max</th>\n",
       "    </tr>\n",
       "    <tr>\n",
       "      <th>DATE</th>\n",
       "      <th></th>\n",
       "      <th></th>\n",
       "    </tr>\n",
       "  </thead>\n",
       "  <tbody>\n",
       "    <tr>\n",
       "      <th>1987-01-01</th>\n",
       "      <td>63.965</td>\n",
       "      <td>64.735</td>\n",
       "    </tr>\n",
       "    <tr>\n",
       "      <th>1987-04-01</th>\n",
       "      <td>65.132</td>\n",
       "      <td>66.073</td>\n",
       "    </tr>\n",
       "    <tr>\n",
       "      <th>1987-07-01</th>\n",
       "      <td>66.508</td>\n",
       "      <td>67.331</td>\n",
       "    </tr>\n",
       "    <tr>\n",
       "      <th>1987-10-01</th>\n",
       "      <td>67.739</td>\n",
       "      <td>68.506</td>\n",
       "    </tr>\n",
       "    <tr>\n",
       "      <th>1988-01-01</th>\n",
       "      <td>68.859</td>\n",
       "      <td>69.639</td>\n",
       "    </tr>\n",
       "    <tr>\n",
       "      <th>...</th>\n",
       "      <td>...</td>\n",
       "      <td>...</td>\n",
       "    </tr>\n",
       "    <tr>\n",
       "      <th>2021-04-01</th>\n",
       "      <td>249.869</td>\n",
       "      <td>259.522</td>\n",
       "    </tr>\n",
       "    <tr>\n",
       "      <th>2021-07-01</th>\n",
       "      <td>263.300</td>\n",
       "      <td>270.212</td>\n",
       "    </tr>\n",
       "    <tr>\n",
       "      <th>2021-10-01</th>\n",
       "      <td>273.166</td>\n",
       "      <td>280.275</td>\n",
       "    </tr>\n",
       "    <tr>\n",
       "      <th>2022-01-01</th>\n",
       "      <td>284.833</td>\n",
       "      <td>296.362</td>\n",
       "    </tr>\n",
       "    <tr>\n",
       "      <th>2022-04-01</th>\n",
       "      <td>301.409</td>\n",
       "      <td>306.181</td>\n",
       "    </tr>\n",
       "  </tbody>\n",
       "</table>\n",
       "<p>142 rows × 2 columns</p>\n",
       "</div>"
      ],
      "text/plain": [
       "           CSUSHPISA         \n",
       "                 min      max\n",
       "DATE                         \n",
       "1987-01-01    63.965   64.735\n",
       "1987-04-01    65.132   66.073\n",
       "1987-07-01    66.508   67.331\n",
       "1987-10-01    67.739   68.506\n",
       "1988-01-01    68.859   69.639\n",
       "...              ...      ...\n",
       "2021-04-01   249.869  259.522\n",
       "2021-07-01   263.300  270.212\n",
       "2021-10-01   273.166  280.275\n",
       "2022-01-01   284.833  296.362\n",
       "2022-04-01   301.409  306.181\n",
       "\n",
       "[142 rows x 2 columns]"
      ]
     },
     "execution_count": 122,
     "metadata": {},
     "output_type": "execute_result"
    }
   ],
   "source": [
    "df.resample(rule = 'QS').agg(['min','max'])"
   ]
  },
  {
   "cell_type": "code",
   "execution_count": 123,
   "id": "06695439",
   "metadata": {},
   "outputs": [
    {
     "data": {
      "text/plain": [
       "<AxesSubplot:xlabel='DATE'>"
      ]
     },
     "execution_count": 123,
     "metadata": {},
     "output_type": "execute_result"
    },
    {
     "data": {
      "image/png": "[encoded data removed]",
      "text/plain": [
       "<Figure size 1008x504 with 1 Axes>"
      ]
     },
     "metadata": {
      "needs_background": "light"
     },
     "output_type": "display_data"
    }
   ],
   "source": [
    "df.resample(rule = 'QS').agg(['min','max']).plot(kind='bar',figsize=(14,7))"
   ]
  },
  {
   "cell_type": "markdown",
   "id": "1d53d6be",
   "metadata": {},
   "source": [
    "## Maximum rise is in 2022"
   ]
  },
  {
   "cell_type": "code",
   "execution_count": 124,
   "id": "fae51a8f",
   "metadata": {},
   "outputs": [
    {
     "data": {
      "text/plain": [
       "CSUSHPISA    159.663397\n",
       "dtype: float64"
      ]
     },
     "execution_count": 124,
     "metadata": {},
     "output_type": "execute_result"
    }
   ],
   "source": [
    "df.loc['2006-01-01':'2012-01-01'].mean()"
   ]
  },
  {
   "cell_type": "markdown",
   "id": "e5891716",
   "metadata": {},
   "source": [
    " ## This is the average CSUSHPISA during the fall"
   ]
  },
  {
   "cell_type": "code",
   "execution_count": 125,
   "id": "0da0accb",
   "metadata": {},
   "outputs": [
    {
     "data": {
      "text/plain": [
       "CSUSHPISA    182.616908\n",
       "dtype: float64"
      ]
     },
     "execution_count": 125,
     "metadata": {},
     "output_type": "execute_result"
    }
   ],
   "source": [
    "df.loc['2012-01-01':'2021-01-01'].mean()"
   ]
  },
  {
   "cell_type": "markdown",
   "id": "858e886f",
   "metadata": {},
   "source": [
    "## This was the average CSUSHPISA after 2012 to 2021"
   ]
  },
  {
   "cell_type": "code",
   "execution_count": 126,
   "id": "f29f9005",
   "metadata": {},
   "outputs": [
    {
     "data": {
      "text/plain": [
       "CSUSHPISA    297.389167\n",
       "dtype: float64"
      ]
     },
     "execution_count": 126,
     "metadata": {},
     "output_type": "execute_result"
    }
   ],
   "source": [
    "df.loc['2022-01-01':].mean()"
   ]
  },
  {
   "cell_type": "markdown",
   "id": "5d213893",
   "metadata": {},
   "source": [
    "## average CSUSHPISA after 2022 which gives the maximum hike"
   ]
  },
  {
   "cell_type": "code",
   "execution_count": 129,
   "id": "3006f4d2",
   "metadata": {},
   "outputs": [],
   "source": [
    "# decomposition\n",
    "from statsmodels.tsa.seasonal import seasonal_decompose ,STL\n",
    "plt.rcParams[\"figure.figsize\"] = (10,6)"
   ]
  },
  {
   "cell_type": "code",
   "execution_count": 130,
   "id": "ce12ccf8",
   "metadata": {},
   "outputs": [
    {
     "data": {
      "image/png": "[encoded data removed]",
      "text/plain": [
       "<Figure size 720x432 with 4 Axes>"
      ]
     },
     "metadata": {
      "needs_background": "light"
     },
     "output_type": "display_data"
    }
   ],
   "source": [
    "df_decomposed = seasonal_decompose(df,model='multiplicative')\n",
    "df_decomposed.plot()\n",
    "plt.show()"
   ]
  },
  {
   "cell_type": "code",
   "execution_count": 132,
   "id": "500258ab",
   "metadata": {},
   "outputs": [
    {
     "data": {
      "text/plain": [
       "<AxesSubplot:xlabel='DATE'>"
      ]
     },
     "execution_count": 132,
     "metadata": {},
     "output_type": "execute_result"
    },
    {
     "data": {
      "image/png": "[encoded data removed]",
      "text/plain": [
       "<Figure size 720x432 with 1 Axes>"
      ]
     },
     "metadata": {
      "needs_background": "light"
     },
     "output_type": "display_data"
    }
   ],
   "source": [
    "(df_decomposed.trend * df_decomposed.seasonal * df_decomposed.resid).plot()"
   ]
  },
  {
   "cell_type": "code",
   "execution_count": 133,
   "id": "8b6e6034",
   "metadata": {},
   "outputs": [],
   "source": [
    "# moving average\n",
    "df['rolling 10 days'] = df['CSUSHPISA'].rolling(window=10,min_periods=1).mean() \n"
   ]
  },
  {
   "cell_type": "code",
   "execution_count": 134,
   "id": "05aec21c",
   "metadata": {},
   "outputs": [],
   "source": [
    "df['rolling 30 days'] = df['CSUSHPISA'].rolling(window=30,min_periods=1).mean()"
   ]
  },
  {
   "cell_type": "markdown",
   "id": "f963237e",
   "metadata": {},
   "source": [
    "df.plot()"
   ]
  },
  {
   "cell_type": "code",
   "execution_count": 135,
   "id": "a5bb66fb",
   "metadata": {},
   "outputs": [
    {
     "data": {
      "text/plain": [
       "<AxesSubplot:xlabel='DATE'>"
      ]
     },
     "execution_count": 135,
     "metadata": {},
     "output_type": "execute_result"
    },
    {
     "data": {
      "image/png": "[encoded data removed]",
      "text/plain": [
       "<Figure size 720x360 with 1 Axes>"
      ]
     },
     "metadata": {
      "needs_background": "light"
     },
     "output_type": "display_data"
    }
   ],
   "source": [
    "## Cummlative moving average\n",
    "\n",
    "df['CSUSHPISA'].expanding().mean().plot(figsize=(10,5))"
   ]
  },
  {
   "cell_type": "code",
   "execution_count": 136,
   "id": "a8fe4368",
   "metadata": {},
   "outputs": [],
   "source": [
    "## exponential moving average\n",
    "\n",
    "df['ema 5 day'] = df['CSUSHPISA'].ewm(span=5).mean()"
   ]
  },
  {
   "cell_type": "code",
   "execution_count": 137,
   "id": "7697113f",
   "metadata": {},
   "outputs": [
    {
     "data": {
      "text/plain": [
       "<AxesSubplot:xlabel='DATE'>"
      ]
     },
     "execution_count": 137,
     "metadata": {},
     "output_type": "execute_result"
    },
    {
     "data": {
      "image/png": "[encoded data removed]",
      "text/plain": [
       "<Figure size 576x288 with 1 Axes>"
      ]
     },
     "metadata": {
      "needs_background": "light"
     },
     "output_type": "display_data"
    }
   ],
   "source": [
    "df[['CSUSHPISA','ema 5 day']].plot(figsize=(8,4))"
   ]
  },
  {
   "cell_type": "markdown",
   "id": "927acf4a",
   "metadata": {},
   "source": [
    "## using dickey fuller test for verification of stationary data"
   ]
  },
  {
   "cell_type": "code",
   "execution_count": 138,
   "id": "cd5c4770",
   "metadata": {},
   "outputs": [],
   "source": [
    "from statsmodels.tsa.stattools import adfuller"
   ]
  },
  {
   "cell_type": "code",
   "execution_count": 139,
   "id": "acd0bdef",
   "metadata": {},
   "outputs": [],
   "source": [
    "def adf_test(series):\n",
    "    result=adfuller(series)\n",
    "    print('ADF Statistics: {}'.format(result[0]))\n",
    "    print('p- value: {}'.format(result[1]))\n",
    "    if result[1] <= 0.05:\n",
    "        print(\"strong evidence against the null hypothesis, reject the null hypothesis. Data has no unit root and is stationary\")\n",
    "    else:\n",
    "        print(\"weak evidence against null hypothesis, time series has a unit root, indicating it is non-stationary \")"
   ]
  },
  {
   "cell_type": "code",
   "execution_count": 140,
   "id": "ef070706",
   "metadata": {},
   "outputs": [
    {
     "name": "stdout",
     "output_type": "stream",
     "text": [
      "ADF Statistics: 0.8372826801421579\n",
      "p- value: 0.9922147564191345\n",
      "weak evidence against null hypothesis, time series has a unit root, indicating it is non-stationary \n"
     ]
    }
   ],
   "source": [
    "adf_test(df['CSUSHPISA'])"
   ]
  },
  {
   "cell_type": "code",
   "execution_count": 141,
   "id": "03a9d887",
   "metadata": {},
   "outputs": [],
   "source": [
    "## Using Technique Differencing\n",
    "df['CSUSHPISA First differnce']=df['CSUSHPISA']-df['CSUSHPISA'].shift(1)"
   ]
  },
  {
   "cell_type": "code",
   "execution_count": 142,
   "id": "730751d3",
   "metadata": {},
   "outputs": [
    {
     "data": {
      "text/html": [
       "<div>\n",
       "<style scoped>\n",
       "    .dataframe tbody tr th:only-of-type {\n",
       "        vertical-align: middle;\n",
       "    }\n",
       "\n",
       "    .dataframe tbody tr th {\n",
       "        vertical-align: top;\n",
       "    }\n",
       "\n",
       "    .dataframe thead th {\n",
       "        text-align: right;\n",
       "    }\n",
       "</style>\n",
       "<table border=\"1\" class=\"dataframe\">\n",
       "  <thead>\n",
       "    <tr style=\"text-align: right;\">\n",
       "      <th></th>\n",
       "      <th>CSUSHPISA</th>\n",
       "      <th>rolling 10 days</th>\n",
       "      <th>rolling 30 days</th>\n",
       "      <th>ema 5 day</th>\n",
       "      <th>CSUSHPISA First differnce</th>\n",
       "    </tr>\n",
       "    <tr>\n",
       "      <th>DATE</th>\n",
       "      <th></th>\n",
       "      <th></th>\n",
       "      <th></th>\n",
       "      <th></th>\n",
       "      <th></th>\n",
       "    </tr>\n",
       "  </thead>\n",
       "  <tbody>\n",
       "    <tr>\n",
       "      <th>1987-01-01</th>\n",
       "      <td>63.965</td>\n",
       "      <td>63.965000</td>\n",
       "      <td>63.965000</td>\n",
       "      <td>63.965000</td>\n",
       "      <td>NaN</td>\n",
       "    </tr>\n",
       "    <tr>\n",
       "      <th>1987-02-01</th>\n",
       "      <td>64.424</td>\n",
       "      <td>64.194500</td>\n",
       "      <td>64.194500</td>\n",
       "      <td>64.240400</td>\n",
       "      <td>0.459</td>\n",
       "    </tr>\n",
       "    <tr>\n",
       "      <th>1987-03-01</th>\n",
       "      <td>64.735</td>\n",
       "      <td>64.374667</td>\n",
       "      <td>64.374667</td>\n",
       "      <td>64.474684</td>\n",
       "      <td>0.311</td>\n",
       "    </tr>\n",
       "    <tr>\n",
       "      <th>1987-04-01</th>\n",
       "      <td>65.132</td>\n",
       "      <td>64.564000</td>\n",
       "      <td>64.564000</td>\n",
       "      <td>64.747723</td>\n",
       "      <td>0.397</td>\n",
       "    </tr>\n",
       "    <tr>\n",
       "      <th>1987-05-01</th>\n",
       "      <td>65.565</td>\n",
       "      <td>64.764200</td>\n",
       "      <td>64.764200</td>\n",
       "      <td>65.061464</td>\n",
       "      <td>0.433</td>\n",
       "    </tr>\n",
       "  </tbody>\n",
       "</table>\n",
       "</div>"
      ],
      "text/plain": [
       "            CSUSHPISA  rolling 10 days  rolling 30 days  ema 5 day  \\\n",
       "DATE                                                                 \n",
       "1987-01-01     63.965        63.965000        63.965000  63.965000   \n",
       "1987-02-01     64.424        64.194500        64.194500  64.240400   \n",
       "1987-03-01     64.735        64.374667        64.374667  64.474684   \n",
       "1987-04-01     65.132        64.564000        64.564000  64.747723   \n",
       "1987-05-01     65.565        64.764200        64.764200  65.061464   \n",
       "\n",
       "            CSUSHPISA First differnce  \n",
       "DATE                                   \n",
       "1987-01-01                        NaN  \n",
       "1987-02-01                      0.459  \n",
       "1987-03-01                      0.311  \n",
       "1987-04-01                      0.397  \n",
       "1987-05-01                      0.433  "
      ]
     },
     "execution_count": 142,
     "metadata": {},
     "output_type": "execute_result"
    }
   ],
   "source": [
    "df.head()"
   ]
  },
  {
   "cell_type": "code",
   "execution_count": 143,
   "id": "f892defd",
   "metadata": {},
   "outputs": [
    {
     "name": "stdout",
     "output_type": "stream",
     "text": [
      "ADF Statistics: -3.5820576825135313\n",
      "p- value: 0.006113457615210817\n",
      "strong evidence against the null hypothesis, reject the null hypothesis. Data has no unit root and is stationary\n"
     ]
    }
   ],
   "source": [
    "adf_test(df['CSUSHPISA First differnce'].dropna())"
   ]
  },
  {
   "cell_type": "code",
   "execution_count": 144,
   "id": "742bb83a",
   "metadata": {},
   "outputs": [],
   "source": [
    "## Using second Time Differencing\n",
    "df['CSUSHPISA Second Difference']=df['CSUSHPISA First differnce']-df['CSUSHPISA First differnce'].shift(1)"
   ]
  },
  {
   "cell_type": "code",
   "execution_count": 145,
   "id": "d938249c",
   "metadata": {},
   "outputs": [
    {
     "name": "stdout",
     "output_type": "stream",
     "text": [
      "ADF Statistics: -5.091620176119649\n",
      "p- value: 1.457323514862507e-05\n",
      "strong evidence against the null hypothesis, reject the null hypothesis. Data has no unit root and is stationary\n"
     ]
    }
   ],
   "source": [
    "adf_test(df['CSUSHPISA Second Difference'].dropna())"
   ]
  },
  {
   "cell_type": "code",
   "execution_count": 146,
   "id": "22f59729",
   "metadata": {},
   "outputs": [],
   "source": [
    "### for 12 months \n",
    "## Using Technique Differencing\n",
    "df['CSUSHPISA 12 Difference']=df['CSUSHPISA']-df['CSUSHPISA'].shift(12)"
   ]
  },
  {
   "cell_type": "code",
   "execution_count": 147,
   "id": "7fbd99d6",
   "metadata": {},
   "outputs": [
    {
     "name": "stdout",
     "output_type": "stream",
     "text": [
      "ADF Statistics: -1.9521045406033892\n",
      "p- value: 0.30796006448127167\n",
      "weak evidence against null hypothesis, time series has a unit root, indicating it is non-stationary \n"
     ]
    }
   ],
   "source": [
    "adf_test(df['CSUSHPISA 12 Difference'].dropna())"
   ]
  },
  {
   "cell_type": "code",
   "execution_count": 148,
   "id": "0794ac14",
   "metadata": {},
   "outputs": [],
   "source": [
    "### for 12 months \n",
    "## Using second Time Differencing\n",
    "df['CSUSHPISA second 12 Difference']=df['CSUSHPISA 12 Difference']-df['CSUSHPISA 12 Difference'].shift(12)"
   ]
  },
  {
   "cell_type": "code",
   "execution_count": 149,
   "id": "6c9669cd",
   "metadata": {},
   "outputs": [
    {
     "name": "stdout",
     "output_type": "stream",
     "text": [
      "ADF Statistics: -4.652496144128007\n",
      "p- value: 0.00010325475480390055\n",
      "strong evidence against the null hypothesis, reject the null hypothesis. Data has no unit root and is stationary\n"
     ]
    }
   ],
   "source": [
    "adf_test(df['CSUSHPISA second 12 Difference'].dropna())"
   ]
  },
  {
   "cell_type": "code",
   "execution_count": 150,
   "id": "cc2f2fab",
   "metadata": {},
   "outputs": [],
   "source": [
    "### for 12 months \n",
    "## Using third Time Differencing\n",
    "df['CSUSHPISA third 12 Difference']=df['CSUSHPISA second 12 Difference']-df['CSUSHPISA second 12 Difference'].shift(12)"
   ]
  },
  {
   "cell_type": "code",
   "execution_count": 151,
   "id": "9edfa073",
   "metadata": {},
   "outputs": [
    {
     "name": "stdout",
     "output_type": "stream",
     "text": [
      "ADF Statistics: -5.67467191201824\n",
      "p- value: 8.760287982914791e-07\n",
      "strong evidence against the null hypothesis, reject the null hypothesis. Data has no unit root and is stationary\n"
     ]
    }
   ],
   "source": [
    "adf_test(df['CSUSHPISA third 12 Difference'].dropna())"
   ]
  },
  {
   "cell_type": "code",
   "execution_count": 152,
   "id": "3e6126ba",
   "metadata": {},
   "outputs": [],
   "source": [
    "from statsmodels.graphics.tsaplots import plot_acf,plot_pacf"
   ]
  },
  {
   "cell_type": "code",
   "execution_count": 153,
   "id": "b08448cb",
   "metadata": {},
   "outputs": [
    {
     "data": {
      "image/png": "[encoded data removed]",
      "text/plain": [
       "<Figure size 720x432 with 1 Axes>"
      ]
     },
     "metadata": {
      "needs_background": "light"
     },
     "output_type": "display_data"
    },
    {
     "data": {
      "image/png": "[encoded data removed]",
      "text/plain": [
       "<Figure size 720x432 with 1 Axes>"
      ]
     },
     "metadata": {
      "needs_background": "light"
     },
     "output_type": "display_data"
    }
   ],
   "source": [
    "acf = plot_acf(df[\"CSUSHPISA Second Difference\"].dropna())\n",
    "pcf = plot_pacf(df[\"CSUSHPISA Second Difference\"].dropna())"
   ]
  },
  {
   "cell_type": "code",
   "execution_count": 154,
   "id": "2be10329",
   "metadata": {},
   "outputs": [
    {
     "data": {
      "image/png": "[encoded data removed]",
      "text/plain": [
       "<Figure size 720x432 with 1 Axes>"
      ]
     },
     "metadata": {
      "needs_background": "light"
     },
     "output_type": "display_data"
    },
    {
     "data": {
      "image/png": "[encoded data removed]",
      "text/plain": [
       "<Figure size 720x432 with 1 Axes>"
      ]
     },
     "metadata": {
      "needs_background": "light"
     },
     "output_type": "display_data"
    }
   ],
   "source": [
    "acf12 = plot_acf(df[\"CSUSHPISA third 12 Difference\"].dropna())\n",
    "pacf12 = plot_pacf(df[\"CSUSHPISA third 12 Difference\"].dropna())"
   ]
  },
  {
   "cell_type": "markdown",
   "id": "215b50ee",
   "metadata": {},
   "source": [
    "## Model building"
   ]
  },
  {
   "cell_type": "code",
   "execution_count": 155,
   "id": "799afef5",
   "metadata": {},
   "outputs": [],
   "source": [
    "from datetime import datetime,timedelta\n",
    "train_dataset_end=datetime(2015,12,1)\n",
    "test_dataset_end=datetime(2022,12,1)"
   ]
  },
  {
   "cell_type": "code",
   "execution_count": 156,
   "id": "4d3c6bb4",
   "metadata": {},
   "outputs": [],
   "source": [
    "train_data=df[:train_dataset_end]\n",
    "test_data=df[train_dataset_end+timedelta(days=1):test_dataset_end]"
   ]
  },
  {
   "cell_type": "code",
   "execution_count": 157,
   "id": "ef81dc60",
   "metadata": {},
   "outputs": [],
   "source": [
    "# prediction\n",
    "pred_start_date=test_data.index[0]\n",
    "pred_end_date=test_data.index[-1]"
   ]
  },
  {
   "cell_type": "markdown",
   "id": "cd7179cd",
   "metadata": {},
   "source": [
    "### Using SARIMAX"
   ]
  },
  {
   "cell_type": "code",
   "execution_count": 158,
   "id": "70530bdc",
   "metadata": {},
   "outputs": [
    {
     "data": {
      "image/png": "[encoded data removed]",
      "text/plain": [
       "<Figure size 720x432 with 1 Axes>"
      ]
     },
     "metadata": {
      "needs_background": "light"
     },
     "output_type": "display_data"
    },
    {
     "data": {
      "image/png": "[encoded data removed]",
      "text/plain": [
       "<Figure size 720x432 with 1 Axes>"
      ]
     },
     "metadata": {
      "needs_background": "light"
     },
     "output_type": "display_data"
    }
   ],
   "source": [
    "acf12 = plot_acf(df[\"CSUSHPISA third 12 Difference\"].dropna())\n",
    "pacf12 = plot_pacf(df[\"CSUSHPISA third 12 Difference\"].dropna())"
   ]
  },
  {
   "cell_type": "code",
   "execution_count": 159,
   "id": "91b8e2cf",
   "metadata": {},
   "outputs": [],
   "source": [
    "from statsmodels.tsa.statespace.sarimax import SARIMAX"
   ]
  },
  {
   "cell_type": "code",
   "execution_count": 160,
   "id": "c3baa2c5",
   "metadata": {},
   "outputs": [
    {
     "name": "stderr",
     "output_type": "stream",
     "text": [
      "C:\\Users\\aditya\\anaconda3\\lib\\site-packages\\statsmodels\\tsa\\base\\tsa_model.py:524: ValueWarning: No frequency information was provided, so inferred frequency MS will be used.\n",
      "  warnings.warn('No frequency information was'\n",
      "C:\\Users\\aditya\\anaconda3\\lib\\site-packages\\statsmodels\\tsa\\base\\tsa_model.py:524: ValueWarning: No frequency information was provided, so inferred frequency MS will be used.\n",
      "  warnings.warn('No frequency information was'\n"
     ]
    }
   ],
   "source": [
    "model_SARIMA=SARIMAX(train_data['CSUSHPISA'],order=(8,3,8),seasonal_order=(0,0,0,12))"
   ]
  },
  {
   "cell_type": "code",
   "execution_count": 161,
   "id": "99d8f787",
   "metadata": {},
   "outputs": [
    {
     "name": "stderr",
     "output_type": "stream",
     "text": [
      "C:\\Users\\aditya\\anaconda3\\lib\\site-packages\\statsmodels\\base\\model.py:566: ConvergenceWarning: Maximum Likelihood optimization failed to converge. Check mle_retvals\n",
      "  warnings.warn(\"Maximum Likelihood optimization failed to \"\n"
     ]
    }
   ],
   "source": [
    "model_SARIMA_fit=model_SARIMA.fit()"
   ]
  },
  {
   "cell_type": "code",
   "execution_count": 162,
   "id": "116bcfc9",
   "metadata": {},
   "outputs": [
    {
     "data": {
      "text/html": [
       "<table class=\"simpletable\">\n",
       "<caption>SARIMAX Results</caption>\n",
       "<tr>\n",
       "  <th>Dep. Variable:</th>       <td>CSUSHPISA</td>    <th>  No. Observations:  </th>   <td>348</td> \n",
       "</tr>\n",
       "<tr>\n",
       "  <th>Model:</th>           <td>SARIMAX(8, 3, 8)</td> <th>  Log Likelihood     </th>  <td>2.110</td>\n",
       "</tr>\n",
       "<tr>\n",
       "  <th>Date:</th>            <td>Thu, 01 Sep 2022</td> <th>  AIC                </th> <td>29.780</td>\n",
       "</tr>\n",
       "<tr>\n",
       "  <th>Time:</th>                <td>22:38:19</td>     <th>  BIC                </th> <td>95.120</td>\n",
       "</tr>\n",
       "<tr>\n",
       "  <th>Sample:</th>             <td>01-01-1987</td>    <th>  HQIC               </th> <td>55.802</td>\n",
       "</tr>\n",
       "<tr>\n",
       "  <th></th>                   <td>- 12-01-2015</td>   <th>                     </th>    <td> </td>  \n",
       "</tr>\n",
       "<tr>\n",
       "  <th>Covariance Type:</th>        <td>opg</td>       <th>                     </th>    <td> </td>  \n",
       "</tr>\n",
       "</table>\n",
       "<table class=\"simpletable\">\n",
       "<tr>\n",
       "     <td></td>       <th>coef</th>     <th>std err</th>      <th>z</th>      <th>P>|z|</th>  <th>[0.025</th>    <th>0.975]</th>  \n",
       "</tr>\n",
       "<tr>\n",
       "  <th>ar.L1</th>  <td>   -0.9485</td> <td>    0.146</td> <td>   -6.506</td> <td> 0.000</td> <td>   -1.234</td> <td>   -0.663</td>\n",
       "</tr>\n",
       "<tr>\n",
       "  <th>ar.L2</th>  <td>   -0.4530</td> <td>    0.170</td> <td>   -2.664</td> <td> 0.008</td> <td>   -0.786</td> <td>   -0.120</td>\n",
       "</tr>\n",
       "<tr>\n",
       "  <th>ar.L3</th>  <td>    0.1296</td> <td>    0.094</td> <td>    1.375</td> <td> 0.169</td> <td>   -0.055</td> <td>    0.314</td>\n",
       "</tr>\n",
       "<tr>\n",
       "  <th>ar.L4</th>  <td>    0.0006</td> <td>    0.088</td> <td>    0.007</td> <td> 0.994</td> <td>   -0.172</td> <td>    0.173</td>\n",
       "</tr>\n",
       "<tr>\n",
       "  <th>ar.L5</th>  <td>   -0.9174</td> <td>    0.079</td> <td>  -11.617</td> <td> 0.000</td> <td>   -1.072</td> <td>   -0.763</td>\n",
       "</tr>\n",
       "<tr>\n",
       "  <th>ar.L6</th>  <td>   -0.7289</td> <td>    0.159</td> <td>   -4.594</td> <td> 0.000</td> <td>   -1.040</td> <td>   -0.418</td>\n",
       "</tr>\n",
       "<tr>\n",
       "  <th>ar.L7</th>  <td>   -0.5881</td> <td>    0.141</td> <td>   -4.176</td> <td> 0.000</td> <td>   -0.864</td> <td>   -0.312</td>\n",
       "</tr>\n",
       "<tr>\n",
       "  <th>ar.L8</th>  <td>   -0.1853</td> <td>    0.046</td> <td>   -4.051</td> <td> 0.000</td> <td>   -0.275</td> <td>   -0.096</td>\n",
       "</tr>\n",
       "<tr>\n",
       "  <th>ma.L1</th>  <td>   -0.0747</td> <td>    0.151</td> <td>   -0.493</td> <td> 0.622</td> <td>   -0.371</td> <td>    0.222</td>\n",
       "</tr>\n",
       "<tr>\n",
       "  <th>ma.L2</th>  <td>   -0.4664</td> <td>    0.185</td> <td>   -2.522</td> <td> 0.012</td> <td>   -0.829</td> <td>   -0.104</td>\n",
       "</tr>\n",
       "<tr>\n",
       "  <th>ma.L3</th>  <td>   -0.7577</td> <td>    0.169</td> <td>   -4.496</td> <td> 0.000</td> <td>   -1.088</td> <td>   -0.427</td>\n",
       "</tr>\n",
       "<tr>\n",
       "  <th>ma.L4</th>  <td>    0.2055</td> <td>    0.102</td> <td>    2.016</td> <td> 0.044</td> <td>    0.006</td> <td>    0.405</td>\n",
       "</tr>\n",
       "<tr>\n",
       "  <th>ma.L5</th>  <td>    0.9678</td> <td>    0.107</td> <td>    9.029</td> <td> 0.000</td> <td>    0.758</td> <td>    1.178</td>\n",
       "</tr>\n",
       "<tr>\n",
       "  <th>ma.L6</th>  <td>   -0.1390</td> <td>    0.142</td> <td>   -0.982</td> <td> 0.326</td> <td>   -0.417</td> <td>    0.139</td>\n",
       "</tr>\n",
       "<tr>\n",
       "  <th>ma.L7</th>  <td>   -0.2682</td> <td>    0.141</td> <td>   -1.902</td> <td> 0.057</td> <td>   -0.545</td> <td>    0.008</td>\n",
       "</tr>\n",
       "<tr>\n",
       "  <th>ma.L8</th>  <td>   -0.4627</td> <td>    0.155</td> <td>   -2.987</td> <td> 0.003</td> <td>   -0.766</td> <td>   -0.159</td>\n",
       "</tr>\n",
       "<tr>\n",
       "  <th>sigma2</th> <td>    0.0566</td> <td>    0.005</td> <td>   11.888</td> <td> 0.000</td> <td>    0.047</td> <td>    0.066</td>\n",
       "</tr>\n",
       "</table>\n",
       "<table class=\"simpletable\">\n",
       "<tr>\n",
       "  <th>Ljung-Box (L1) (Q):</th>     <td>0.03</td>  <th>  Jarque-Bera (JB):  </th> <td>1383.19</td>\n",
       "</tr>\n",
       "<tr>\n",
       "  <th>Prob(Q):</th>                <td>0.86</td>  <th>  Prob(JB):          </th>  <td>0.00</td>  \n",
       "</tr>\n",
       "<tr>\n",
       "  <th>Heteroskedasticity (H):</th> <td>31.87</td> <th>  Skew:              </th>  <td>1.11</td>  \n",
       "</tr>\n",
       "<tr>\n",
       "  <th>Prob(H) (two-sided):</th>    <td>0.00</td>  <th>  Kurtosis:          </th>  <td>12.55</td> \n",
       "</tr>\n",
       "</table><br/><br/>Warnings:<br/>[1] Covariance matrix calculated using the outer product of gradients (complex-step)."
      ],
      "text/plain": [
       "<class 'statsmodels.iolib.summary.Summary'>\n",
       "\"\"\"\n",
       "                               SARIMAX Results                                \n",
       "==============================================================================\n",
       "Dep. Variable:              CSUSHPISA   No. Observations:                  348\n",
       "Model:               SARIMAX(8, 3, 8)   Log Likelihood                   2.110\n",
       "Date:                Thu, 01 Sep 2022   AIC                             29.780\n",
       "Time:                        22:38:19   BIC                             95.120\n",
       "Sample:                    01-01-1987   HQIC                            55.802\n",
       "                         - 12-01-2015                                         \n",
       "Covariance Type:                  opg                                         \n",
       "==============================================================================\n",
       "                 coef    std err          z      P>|z|      [0.025      0.975]\n",
       "------------------------------------------------------------------------------\n",
       "ar.L1         -0.9485      0.146     -6.506      0.000      -1.234      -0.663\n",
       "ar.L2         -0.4530      0.170     -2.664      0.008      -0.786      -0.120\n",
       "ar.L3          0.1296      0.094      1.375      0.169      -0.055       0.314\n",
       "ar.L4          0.0006      0.088      0.007      0.994      -0.172       0.173\n",
       "ar.L5         -0.9174      0.079    -11.617      0.000      -1.072      -0.763\n",
       "ar.L6         -0.7289      0.159     -4.594      0.000      -1.040      -0.418\n",
       "ar.L7         -0.5881      0.141     -4.176      0.000      -0.864      -0.312\n",
       "ar.L8         -0.1853      0.046     -4.051      0.000      -0.275      -0.096\n",
       "ma.L1         -0.0747      0.151     -0.493      0.622      -0.371       0.222\n",
       "ma.L2         -0.4664      0.185     -2.522      0.012      -0.829      -0.104\n",
       "ma.L3         -0.7577      0.169     -4.496      0.000      -1.088      -0.427\n",
       "ma.L4          0.2055      0.102      2.016      0.044       0.006       0.405\n",
       "ma.L5          0.9678      0.107      9.029      0.000       0.758       1.178\n",
       "ma.L6         -0.1390      0.142     -0.982      0.326      -0.417       0.139\n",
       "ma.L7         -0.2682      0.141     -1.902      0.057      -0.545       0.008\n",
       "ma.L8         -0.4627      0.155     -2.987      0.003      -0.766      -0.159\n",
       "sigma2         0.0566      0.005     11.888      0.000       0.047       0.066\n",
       "===================================================================================\n",
       "Ljung-Box (L1) (Q):                   0.03   Jarque-Bera (JB):              1383.19\n",
       "Prob(Q):                              0.86   Prob(JB):                         0.00\n",
       "Heteroskedasticity (H):              31.87   Skew:                             1.11\n",
       "Prob(H) (two-sided):                  0.00   Kurtosis:                        12.55\n",
       "===================================================================================\n",
       "\n",
       "Warnings:\n",
       "[1] Covariance matrix calculated using the outer product of gradients (complex-step).\n",
       "\"\"\""
      ]
     },
     "execution_count": 162,
     "metadata": {},
     "output_type": "execute_result"
    }
   ],
   "source": [
    "model_SARIMA_fit.summary()"
   ]
  },
  {
   "cell_type": "code",
   "execution_count": 163,
   "id": "d7e5d4ff",
   "metadata": {},
   "outputs": [
    {
     "name": "stdout",
     "output_type": "stream",
     "text": [
      "2016-01-01 00:00:00\n",
      "2022-06-01 00:00:00\n"
     ]
    }
   ],
   "source": [
    "##prediction\n",
    "pred_start_date=test_data.index[0]\n",
    "pred_end_date=test_data.index[-1]\n",
    "print(pred_start_date)\n",
    "print(pred_end_date)"
   ]
  },
  {
   "cell_type": "code",
   "execution_count": 164,
   "id": "b006dab6",
   "metadata": {},
   "outputs": [
    {
     "name": "stderr",
     "output_type": "stream",
     "text": [
      "C:\\Users\\aditya\\anaconda3\\lib\\site-packages\\statsmodels\\tsa\\base\\tsa_model.py:132: FutureWarning: The 'freq' argument in Timestamp is deprecated and will be removed in a future version.\n",
      "  date_key = Timestamp(key, freq=base_index.freq)\n"
     ]
    }
   ],
   "source": [
    "pred_Sarima=model_SARIMA_fit.predict(start=datetime(2016,1,1),end=datetime(2022,5,1))\n",
    "residuals=test_data['CSUSHPISA']-pred_Sarima"
   ]
  },
  {
   "cell_type": "code",
   "execution_count": 165,
   "id": "88e35e1c",
   "metadata": {},
   "outputs": [
    {
     "data": {
      "text/plain": [
       "<AxesSubplot:xlabel='DATE'>"
      ]
     },
     "execution_count": 165,
     "metadata": {},
     "output_type": "execute_result"
    },
    {
     "data": {
      "image/png": "[encoded data removed]",
      "text/plain": [
       "<Figure size 504x576 with 1 Axes>"
      ]
     },
     "metadata": {
      "needs_background": "light"
     },
     "output_type": "display_data"
    }
   ],
   "source": [
    "model_SARIMA_fit.resid.plot(figsize=(7,8))"
   ]
  },
  {
   "cell_type": "code",
   "execution_count": 166,
   "id": "86a7f831",
   "metadata": {},
   "outputs": [
    {
     "data": {
      "text/plain": [
       "<AxesSubplot:ylabel='Density'>"
      ]
     },
     "execution_count": 166,
     "metadata": {},
     "output_type": "execute_result"
    },
    {
     "data": {
      "image/png": "[encoded data removed]",
      "text/plain": [
       "<Figure size 504x432 with 1 Axes>"
      ]
     },
     "metadata": {
      "needs_background": "light"
     },
     "output_type": "display_data"
    }
   ],
   "source": [
    "model_SARIMA_fit.resid.plot(kind='kde',figsize=(7,6))"
   ]
  },
  {
   "cell_type": "code",
   "execution_count": 167,
   "id": "bbca0433",
   "metadata": {},
   "outputs": [
    {
     "name": "stderr",
     "output_type": "stream",
     "text": [
      "C:\\Users\\aditya\\AppData\\Local\\Temp/ipykernel_10288/1367177785.py:1: SettingWithCopyWarning: \n",
      "A value is trying to be set on a copy of a slice from a DataFrame.\n",
      "Try using .loc[row_indexer,col_indexer] = value instead\n",
      "\n",
      "See the caveats in the documentation: https://pandas.pydata.org/pandas-docs/stable/user_guide/indexing.html#returning-a-view-versus-a-copy\n",
      "  test_data['Predicted_SARIMA']=pred_Sarima\n"
     ]
    }
   ],
   "source": [
    "test_data['Predicted_SARIMA']=pred_Sarima"
   ]
  },
  {
   "cell_type": "code",
   "execution_count": 168,
   "id": "dffcc3c5",
   "metadata": {},
   "outputs": [
    {
     "data": {
      "text/html": [
       "<div>\n",
       "<style scoped>\n",
       "    .dataframe tbody tr th:only-of-type {\n",
       "        vertical-align: middle;\n",
       "    }\n",
       "\n",
       "    .dataframe tbody tr th {\n",
       "        vertical-align: top;\n",
       "    }\n",
       "\n",
       "    .dataframe thead th {\n",
       "        text-align: right;\n",
       "    }\n",
       "</style>\n",
       "<table border=\"1\" class=\"dataframe\">\n",
       "  <thead>\n",
       "    <tr style=\"text-align: right;\">\n",
       "      <th></th>\n",
       "      <th>CSUSHPISA</th>\n",
       "      <th>rolling 10 days</th>\n",
       "      <th>rolling 30 days</th>\n",
       "      <th>ema 5 day</th>\n",
       "      <th>CSUSHPISA First differnce</th>\n",
       "      <th>CSUSHPISA Second Difference</th>\n",
       "      <th>CSUSHPISA 12 Difference</th>\n",
       "      <th>CSUSHPISA second 12 Difference</th>\n",
       "      <th>CSUSHPISA third 12 Difference</th>\n",
       "      <th>Predicted_SARIMA</th>\n",
       "    </tr>\n",
       "    <tr>\n",
       "      <th>DATE</th>\n",
       "      <th></th>\n",
       "      <th></th>\n",
       "      <th></th>\n",
       "      <th></th>\n",
       "      <th></th>\n",
       "      <th></th>\n",
       "      <th></th>\n",
       "      <th></th>\n",
       "      <th></th>\n",
       "      <th></th>\n",
       "    </tr>\n",
       "  </thead>\n",
       "  <tbody>\n",
       "    <tr>\n",
       "      <th>2016-01-01</th>\n",
       "      <td>177.305</td>\n",
       "      <td>173.5978</td>\n",
       "      <td>167.184533</td>\n",
       "      <td>175.680874</td>\n",
       "      <td>0.744</td>\n",
       "      <td>-0.069</td>\n",
       "      <td>8.639</td>\n",
       "      <td>1.923</td>\n",
       "      <td>10.321</td>\n",
       "      <td>177.367846</td>\n",
       "    </tr>\n",
       "    <tr>\n",
       "      <th>2016-02-01</th>\n",
       "      <td>177.664</td>\n",
       "      <td>174.3332</td>\n",
       "      <td>167.874267</td>\n",
       "      <td>176.341916</td>\n",
       "      <td>0.359</td>\n",
       "      <td>-0.385</td>\n",
       "      <td>8.527</td>\n",
       "      <td>1.920</td>\n",
       "      <td>10.059</td>\n",
       "      <td>177.992125</td>\n",
       "    </tr>\n",
       "    <tr>\n",
       "      <th>2016-03-01</th>\n",
       "      <td>178.185</td>\n",
       "      <td>175.0624</td>\n",
       "      <td>168.539333</td>\n",
       "      <td>176.956277</td>\n",
       "      <td>0.521</td>\n",
       "      <td>0.162</td>\n",
       "      <td>8.377</td>\n",
       "      <td>1.661</td>\n",
       "      <td>8.072</td>\n",
       "      <td>178.661057</td>\n",
       "    </tr>\n",
       "    <tr>\n",
       "      <th>2016-04-01</th>\n",
       "      <td>178.794</td>\n",
       "      <td>175.7967</td>\n",
       "      <td>169.190933</td>\n",
       "      <td>177.568852</td>\n",
       "      <td>0.609</td>\n",
       "      <td>0.088</td>\n",
       "      <td>8.484</td>\n",
       "      <td>1.573</td>\n",
       "      <td>6.540</td>\n",
       "      <td>179.341259</td>\n",
       "    </tr>\n",
       "    <tr>\n",
       "      <th>2016-05-01</th>\n",
       "      <td>179.458</td>\n",
       "      <td>176.5303</td>\n",
       "      <td>169.837033</td>\n",
       "      <td>178.198568</td>\n",
       "      <td>0.664</td>\n",
       "      <td>0.055</td>\n",
       "      <td>8.565</td>\n",
       "      <td>1.338</td>\n",
       "      <td>4.923</td>\n",
       "      <td>180.054520</td>\n",
       "    </tr>\n",
       "    <tr>\n",
       "      <th>...</th>\n",
       "      <td>...</td>\n",
       "      <td>...</td>\n",
       "      <td>...</td>\n",
       "      <td>...</td>\n",
       "      <td>...</td>\n",
       "      <td>...</td>\n",
       "      <td>...</td>\n",
       "      <td>...</td>\n",
       "      <td>...</td>\n",
       "      <td>...</td>\n",
       "    </tr>\n",
       "    <tr>\n",
       "      <th>2022-02-01</th>\n",
       "      <td>290.371</td>\n",
       "      <td>271.9682</td>\n",
       "      <td>240.340533</td>\n",
       "      <td>281.505689</td>\n",
       "      <td>5.538</td>\n",
       "      <td>0.980</td>\n",
       "      <td>48.503</td>\n",
       "      <td>22.196</td>\n",
       "      <td>4.731</td>\n",
       "      <td>237.207593</td>\n",
       "    </tr>\n",
       "    <tr>\n",
       "      <th>2022-03-01</th>\n",
       "      <td>296.362</td>\n",
       "      <td>276.1519</td>\n",
       "      <td>243.189867</td>\n",
       "      <td>286.457793</td>\n",
       "      <td>5.991</td>\n",
       "      <td>0.453</td>\n",
       "      <td>50.660</td>\n",
       "      <td>21.497</td>\n",
       "      <td>1.710</td>\n",
       "      <td>238.072468</td>\n",
       "    </tr>\n",
       "    <tr>\n",
       "      <th>2022-04-01</th>\n",
       "      <td>301.409</td>\n",
       "      <td>280.3406</td>\n",
       "      <td>246.183433</td>\n",
       "      <td>291.441528</td>\n",
       "      <td>5.047</td>\n",
       "      <td>-0.944</td>\n",
       "      <td>51.540</td>\n",
       "      <td>18.979</td>\n",
       "      <td>-4.103</td>\n",
       "      <td>238.904639</td>\n",
       "    </tr>\n",
       "    <tr>\n",
       "      <th>2022-05-01</th>\n",
       "      <td>305.179</td>\n",
       "      <td>284.5285</td>\n",
       "      <td>249.273200</td>\n",
       "      <td>296.020686</td>\n",
       "      <td>3.770</td>\n",
       "      <td>-1.277</td>\n",
       "      <td>50.654</td>\n",
       "      <td>13.792</td>\n",
       "      <td>-13.969</td>\n",
       "      <td>239.722172</td>\n",
       "    </tr>\n",
       "    <tr>\n",
       "      <th>2022-06-01</th>\n",
       "      <td>306.181</td>\n",
       "      <td>288.4483</td>\n",
       "      <td>252.362867</td>\n",
       "      <td>299.407457</td>\n",
       "      <td>1.002</td>\n",
       "      <td>-2.768</td>\n",
       "      <td>46.659</td>\n",
       "      <td>5.467</td>\n",
       "      <td>-26.481</td>\n",
       "      <td>NaN</td>\n",
       "    </tr>\n",
       "  </tbody>\n",
       "</table>\n",
       "<p>78 rows × 10 columns</p>\n",
       "</div>"
      ],
      "text/plain": [
       "            CSUSHPISA  rolling 10 days  rolling 30 days   ema 5 day  \\\n",
       "DATE                                                                  \n",
       "2016-01-01    177.305         173.5978       167.184533  175.680874   \n",
       "2016-02-01    177.664         174.3332       167.874267  176.341916   \n",
       "2016-03-01    178.185         175.0624       168.539333  176.956277   \n",
       "2016-04-01    178.794         175.7967       169.190933  177.568852   \n",
       "2016-05-01    179.458         176.5303       169.837033  178.198568   \n",
       "...               ...              ...              ...         ...   \n",
       "2022-02-01    290.371         271.9682       240.340533  281.505689   \n",
       "2022-03-01    296.362         276.1519       243.189867  286.457793   \n",
       "2022-04-01    301.409         280.3406       246.183433  291.441528   \n",
       "2022-05-01    305.179         284.5285       249.273200  296.020686   \n",
       "2022-06-01    306.181         288.4483       252.362867  299.407457   \n",
       "\n",
       "            CSUSHPISA First differnce  CSUSHPISA Second Difference  \\\n",
       "DATE                                                                 \n",
       "2016-01-01                      0.744                       -0.069   \n",
       "2016-02-01                      0.359                       -0.385   \n",
       "2016-03-01                      0.521                        0.162   \n",
       "2016-04-01                      0.609                        0.088   \n",
       "2016-05-01                      0.664                        0.055   \n",
       "...                               ...                          ...   \n",
       "2022-02-01                      5.538                        0.980   \n",
       "2022-03-01                      5.991                        0.453   \n",
       "2022-04-01                      5.047                       -0.944   \n",
       "2022-05-01                      3.770                       -1.277   \n",
       "2022-06-01                      1.002                       -2.768   \n",
       "\n",
       "            CSUSHPISA 12 Difference  CSUSHPISA second 12 Difference  \\\n",
       "DATE                                                                  \n",
       "2016-01-01                    8.639                           1.923   \n",
       "2016-02-01                    8.527                           1.920   \n",
       "2016-03-01                    8.377                           1.661   \n",
       "2016-04-01                    8.484                           1.573   \n",
       "2016-05-01                    8.565                           1.338   \n",
       "...                             ...                             ...   \n",
       "2022-02-01                   48.503                          22.196   \n",
       "2022-03-01                   50.660                          21.497   \n",
       "2022-04-01                   51.540                          18.979   \n",
       "2022-05-01                   50.654                          13.792   \n",
       "2022-06-01                   46.659                           5.467   \n",
       "\n",
       "            CSUSHPISA third 12 Difference  Predicted_SARIMA  \n",
       "DATE                                                         \n",
       "2016-01-01                         10.321        177.367846  \n",
       "2016-02-01                         10.059        177.992125  \n",
       "2016-03-01                          8.072        178.661057  \n",
       "2016-04-01                          6.540        179.341259  \n",
       "2016-05-01                          4.923        180.054520  \n",
       "...                                   ...               ...  \n",
       "2022-02-01                          4.731        237.207593  \n",
       "2022-03-01                          1.710        238.072468  \n",
       "2022-04-01                         -4.103        238.904639  \n",
       "2022-05-01                        -13.969        239.722172  \n",
       "2022-06-01                        -26.481               NaN  \n",
       "\n",
       "[78 rows x 10 columns]"
      ]
     },
     "execution_count": 168,
     "metadata": {},
     "output_type": "execute_result"
    }
   ],
   "source": [
    "test_data"
   ]
  },
  {
   "cell_type": "code",
   "execution_count": 170,
   "id": "4d3c238d",
   "metadata": {},
   "outputs": [
    {
     "data": {
      "text/plain": [
       "<AxesSubplot:xlabel='DATE'>"
      ]
     },
     "execution_count": 170,
     "metadata": {},
     "output_type": "execute_result"
    },
    {
     "data": {
      "image/png": "[encoded data removed]",
      "text/plain": [
       "<Figure size 648x504 with 1 Axes>"
      ]
     },
     "metadata": {
      "needs_background": "light"
     },
     "output_type": "display_data"
    }
   ],
   "source": [
    "test_data[['CSUSHPISA','Predicted_SARIMA']].plot(figsize = (9,7))"
   ]
  },
  {
   "cell_type": "markdown",
   "id": "d2c8d760",
   "metadata": {},
   "source": [
    "###  I have used Sarimax because it is a seasonal data"
   ]
  }
 ],
 "metadata": {
  "kernelspec": {
   "display_name": "Python 3 (ipykernel)",
   "language": "python",
   "name": "python3"
  },
  "language_info": {
   "codemirror_mode": {
    "name": "ipython",
    "version": 3
   },
   "file_extension": ".py",
   "mimetype": "text/x-python",
   "name": "python",
   "nbconvert_exporter": "python",
   "pygments_lexer": "ipython3",
   "version": "3.9.7"
  }
 },
 "nbformat": 4,
 "nbformat_minor": 5
}
